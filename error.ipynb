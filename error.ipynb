{
 "cells": [
  {
   "cell_type": "code",
   "execution_count": 3,
   "metadata": {},
   "outputs": [
    {
     "name": "stdout",
     "output_type": "stream",
     "text": [
      "Current working directory: /Users/brandon/RAG-Chatbot\n",
      "Files in current directory: ['chroma_store', 'requirements.txt', 'RAG-Chatbot.code-workspace', 'ragbot', '.gitignore', '.env', 'rag_langchain.ipynb', 'error.ipynb']\n",
      "Looking for .env file...\n"
     ]
    },
    {
     "name": "stderr",
     "output_type": "stream",
     "text": [
      "WARNING: All log messages before absl::InitializeLog() is called are written to STDERR\n",
      "I0000 00:00:1756410312.503713  111074 check_gcp_environment_no_op.cc:29] ALTS: Platforms other than Linux and Windows are not supported\n",
      "I0000 00:00:1756410312.513998  111074 check_gcp_environment_no_op.cc:29] ALTS: Platforms other than Linux and Windows are not supported\n",
      "Retrying langchain_google_genai.chat_models._chat_with_retry.<locals>._chat_with_retry in 2.0 seconds as it raised InternalServerError: 500 An internal error has occurred. Please retry or report in https://developers.generativeai.google/guide/troubleshooting.\n"
     ]
    },
    {
     "name": "stdout",
     "output_type": "stream",
     "text": [
      "API error: 500 An internal error has occurred. Please retry or report in https://developers.generativeai.google/guide/troubleshooting\n",
      "RAG error: name 'your_rag_chain' is not defined\n"
     ]
    }
   ],
   "source": [
    "from langchain_google_genai import ChatGoogleGenerativeAI,GoogleGenerativeAIEmbeddings\n",
    "from langchain_core.messages import HumanMessage\n",
    "import os\n",
    "from dotenv import load_dotenv\n",
    "\n",
    "# Load environment variables from .env file\n",
    "load_dotenv()\n",
    "\n",
    "# Debug: Check if .env file is being loaded\n",
    "print(\"Current working directory:\", os.getcwd())\n",
    "print(\"Files in current directory:\", os.listdir('.'))\n",
    "print(\"Looking for .env file...\")\n",
    "\n",
    "# Get the API key from environment variables\n",
    "api_key_google = os.getenv(\"GEMINI_API_KEY\")\n",
    "\n",
    "# 2. Test with a simple request first\n",
    "from langchain_google_genai import ChatGoogleGenerativeAI\n",
    "\n",
    "llm = ChatGoogleGenerativeAI(model=\"gemini-2.5-pro\",\n",
    "        google_api_key=api_key_google)\n",
    "try:\n",
    "    response = llm.invoke(\"Hello, world!\")\n",
    "    print(\"API working:\", response.content)\n",
    "except Exception as e:\n",
    "    print(\"API error:\", e)\n",
    "\n",
    "# 3. Add error handling to your RAG chain\n",
    "try:\n",
    "    result = your_rag_chain.invoke(query)\n",
    "except Exception as e:\n",
    "    print(f\"RAG error: {e}\")\n",
    "    # Fallback behavior here"
   ]
  }
 ],
 "metadata": {
  "kernelspec": {
   "display_name": "ragbot",
   "language": "python",
   "name": "python3"
  },
  "language_info": {
   "codemirror_mode": {
    "name": "ipython",
    "version": 3
   },
   "file_extension": ".py",
   "mimetype": "text/x-python",
   "name": "python",
   "nbconvert_exporter": "python",
   "pygments_lexer": "ipython3",
   "version": "3.11.6"
  }
 },
 "nbformat": 4,
 "nbformat_minor": 2
}
