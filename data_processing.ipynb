{
 "cells": [
  {
   "cell_type": "code",
   "execution_count": 4,
   "metadata": {},
   "outputs": [
    {
     "name": "stdout",
     "output_type": "stream",
     "text": [
      "Loaded 482448 docs\n",
      "Created 482492 chunks\n",
      "Using first 10%: 48249 chunks\n"
     ]
    },
    {
     "name": "stderr",
     "output_type": "stream",
     "text": [
      "/Users/brandon/RAG-Chatbot/ragbot/lib/python3.11/site-packages/pinecone/data/index.py:1: TqdmWarning: IProgress not found. Please update jupyter and ipywidgets. See https://ipywidgets.readthedocs.io/en/stable/user_install.html\n",
      "  from tqdm.autonotebook import tqdm\n"
     ]
    },
    {
     "name": "stdout",
     "output_type": "stream",
     "text": [
      "[index] using first 4824/48249 chunks (fraction=0.10)\n",
      "[tfidf] built: 4824 docs, vocab~4481\n",
      "[tfidf] saved -> tfidf.joblib\n"
     ]
    },
    {
     "name": "stderr",
     "output_type": "stream",
     "text": [
      "WARNING: All log messages before absl::InitializeLog() is called are written to STDERR\n",
      "I0000 00:00:1756596117.077791  956989 check_gcp_environment_no_op.cc:29] ALTS: Platforms other than Linux and Windows are not supported\n"
     ]
    },
    {
     "name": "stdout",
     "output_type": "stream",
     "text": [
      "[emb] 4824/4824 (batch=64)\n",
      "[index] upserted 4824 vectors into 'ubc-grades-hybrid' ns='ubc-grades'\n"
     ]
    }
   ],
   "source": [
    "from src.ingest_fs import load_docs_from_paths, chunk_documents, take_first_fraction\n",
    "\n",
    "paths = [\"/Users/brandon/Downloads/ubc-pair-grade-data-master\"]\n",
    "\n",
    "# 1) Load\n",
    "docs = load_docs_from_paths(paths)\n",
    "print(f\"Loaded {len(docs)} docs\")\n",
    "\n",
    "# 2) Chunk\n",
    "document_chunks = chunk_documents(docs, chunk_size=1000, chunk_overlap=100)\n",
    "print(f\"Created {len(document_chunks)} chunks\")\n",
    "\n",
    "# 3) (Optional) take first X% for a quick run (e.g., 10%)\n",
    "document_chunks = take_first_fraction(document_chunks, fraction=0.10)\n",
    "print(f\"Using first 10%: {len(document_chunks)} chunks\")\n",
    "\n",
    "from src.index_hybrid import build_and_upsert\n",
    "build_and_upsert(document_chunks)\n"
   ]
  }
 ],
 "metadata": {
  "kernelspec": {
   "display_name": "ragbot",
   "language": "python",
   "name": "python3"
  },
  "language_info": {
   "codemirror_mode": {
    "name": "ipython",
    "version": 3
   },
   "file_extension": ".py",
   "mimetype": "text/x-python",
   "name": "python",
   "nbconvert_exporter": "python",
   "pygments_lexer": "ipython3",
   "version": "3.11.6"
  }
 },
 "nbformat": 4,
 "nbformat_minor": 2
}
